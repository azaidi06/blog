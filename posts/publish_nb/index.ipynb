{
 "cells": [
  {
   "cell_type": "raw",
   "metadata": {},
   "source": [
    "---\n",
    "title: \"Authoring delightful documents with Notebooks!\"\n",
    "author: \"Ali Zaidi\"\n",
    "date: \"2022-10-21\"\n",
    "categories: []\n",
    "toc: true\n",
    "toc-depth: 3\n",
    "toc-title: Contents\n",
    "image: \"notebook.png\"\n",
    "number-sections: true\n",
    "format:\n",
    "    html:\n",
    "        code-fold: true\n",
    "        code-tools: true\n",
    "keep-ipynb: true\n",
    "jupyter: python3\n",
    "---"
   ]
  },
  {
   "cell_type": "code",
   "execution_count": null,
   "metadata": {},
   "outputs": [],
   "source": [
    "To use a jupyter notebook like this, include the following as raw a cell at the top of your notebook:<br>\n",
    "title: \"Authoring delightful documents with Notebooks!\"<br>\n",
    "author: \"Ali Zaidi\"<br>\n",
    "date: \"2022-10-21\"<br>\n",
    "categories: []<br>\n",
    "toc: true<br>\n",
    "toc-depth: 3<br>\n",
    "toc-title: Contents<br>\n",
    "image: \"notebook.png\"<br>\n",
    "number-sections: true<br>\n",
    "format:<br>\n",
    "    html:<br>\n",
    "        code-fold: true<br>\n",
    "        code-tools: true<br>\n",
    "keep-ipynb: true <br>\n",
    "jupyter: python3<br>"
   ]
  },
  {
   "cell_type": "raw",
   "metadata": {},
   "source": [
    "#  Displaying data and visualzations is easy"
   ]
  },
  {
   "cell_type": "raw",
   "metadata": {},
   "source": [
    "## Seeing our first plot"
   ]
  },
  {
   "cell_type": "raw",
   "metadata": {},
   "source": [
    "### Random level in\n",
    "Just to show toc-depth field"
   ]
  },
  {
   "cell_type": "code",
   "execution_count": 1,
   "metadata": {},
   "outputs": [
    {
     "data": {
      "image/png": "[encoded data removed]",
      "text/plain": [
       "<Figure size 432x288 with 1 Axes>"
      ]
     },
     "metadata": {
      "needs_background": "light"
     },
     "output_type": "display_data"
    }
   ],
   "source": [
    "#| fig-cap: a simple plot!\n",
    "\n",
    "import numpy as np\n",
    "import matplotlib.pyplot as plt\n",
    "import pandas as pd\n",
    "\n",
    "x = np.arange(10)\n",
    "y = np.random.randint(0, 10, 10)\n",
    "plt.plot(x,y)\n",
    "plt.title('A random plot!')\n",
    "plt.xlabel('our x axis :-p')\n",
    "plt.ylabel('our y values');\n"
   ]
  },
  {
   "cell_type": "code",
   "execution_count": 46,
   "metadata": {},
   "outputs": [
    {
     "data": {
      "text/plain": [
       "(10, 2)"
      ]
     },
     "execution_count": 46,
     "metadata": {},
     "output_type": "execute_result"
    }
   ],
   "source": [
    "np.array([x,y]).T.shape"
   ]
  },
  {
   "cell_type": "markdown",
   "metadata": {},
   "source": [
    "## Dataframes as well!"
   ]
  },
  {
   "cell_type": "code",
   "execution_count": 45,
   "metadata": {},
   "outputs": [
    {
     "data": {
      "text/html": [
       "<div>\n",
       "<style scoped>\n",
       "    .dataframe tbody tr th:only-of-type {\n",
       "        vertical-align: middle;\n",
       "    }\n",
       "\n",
       "    .dataframe tbody tr th {\n",
       "        vertical-align: top;\n",
       "    }\n",
       "\n",
       "    .dataframe thead th {\n",
       "        text-align: right;\n",
       "    }\n",
       "</style>\n",
       "<table border=\"1\" class=\"dataframe\">\n",
       "  <thead>\n",
       "    <tr style=\"text-align: right;\">\n",
       "      <th></th>\n",
       "      <th>y1</th>\n",
       "      <th>y2</th>\n",
       "      <th>y3</th>\n",
       "    </tr>\n",
       "  </thead>\n",
       "  <tbody>\n",
       "    <tr>\n",
       "      <th>0</th>\n",
       "      <td>5.0</td>\n",
       "      <td>8.0</td>\n",
       "      <td>2.5</td>\n",
       "    </tr>\n",
       "    <tr>\n",
       "      <th>1</th>\n",
       "      <td>6.0</td>\n",
       "      <td>9.0</td>\n",
       "      <td>3.0</td>\n",
       "    </tr>\n",
       "    <tr>\n",
       "      <th>2</th>\n",
       "      <td>8.0</td>\n",
       "      <td>11.0</td>\n",
       "      <td>4.0</td>\n",
       "    </tr>\n",
       "    <tr>\n",
       "      <th>3</th>\n",
       "      <td>1.0</td>\n",
       "      <td>4.0</td>\n",
       "      <td>0.5</td>\n",
       "    </tr>\n",
       "    <tr>\n",
       "      <th>4</th>\n",
       "      <td>6.0</td>\n",
       "      <td>9.0</td>\n",
       "      <td>3.0</td>\n",
       "    </tr>\n",
       "    <tr>\n",
       "      <th>5</th>\n",
       "      <td>4.0</td>\n",
       "      <td>7.0</td>\n",
       "      <td>2.0</td>\n",
       "    </tr>\n",
       "    <tr>\n",
       "      <th>6</th>\n",
       "      <td>4.0</td>\n",
       "      <td>7.0</td>\n",
       "      <td>2.0</td>\n",
       "    </tr>\n",
       "    <tr>\n",
       "      <th>7</th>\n",
       "      <td>3.0</td>\n",
       "      <td>6.0</td>\n",
       "      <td>1.5</td>\n",
       "    </tr>\n",
       "    <tr>\n",
       "      <th>8</th>\n",
       "      <td>3.0</td>\n",
       "      <td>6.0</td>\n",
       "      <td>1.5</td>\n",
       "    </tr>\n",
       "    <tr>\n",
       "      <th>9</th>\n",
       "      <td>3.0</td>\n",
       "      <td>6.0</td>\n",
       "      <td>1.5</td>\n",
       "    </tr>\n",
       "  </tbody>\n",
       "</table>\n",
       "</div>"
      ],
      "text/plain": [
       "    y1    y2   y3\n",
       "0  5.0   8.0  2.5\n",
       "1  6.0   9.0  3.0\n",
       "2  8.0  11.0  4.0\n",
       "3  1.0   4.0  0.5\n",
       "4  6.0   9.0  3.0\n",
       "5  4.0   7.0  2.0\n",
       "6  4.0   7.0  2.0\n",
       "7  3.0   6.0  1.5\n",
       "8  3.0   6.0  1.5\n",
       "9  3.0   6.0  1.5"
      ]
     },
     "execution_count": 45,
     "metadata": {},
     "output_type": "execute_result"
    }
   ],
   "source": [
    "#| echo: false\n",
    "pd.DataFrame(np.array([y, y+3, y/2]).T, columns=['y1', 'y2', 'y3'])"
   ]
  },
  {
   "cell_type": "markdown",
   "metadata": {},
   "source": [
    "# Text is easy!"
   ]
  },
  {
   "cell_type": "markdown",
   "metadata": {},
   "source": [
    "We can write alot of thigns and include images and what not amongst the words."
   ]
  },
  {
   "cell_type": "markdown",
   "metadata": {},
   "source": [
    "* There's so many things we can do!\n",
    "    + one thing\n",
    "    + two things\n",
    "        - all the things\n",
    "    + three things"
   ]
  }
 ],
 "metadata": {
  "kernelspec": {
   "display_name": "Python 3.10.5 ('fast_env')",
   "language": "python",
   "name": "python3"
  },
  "language_info": {
   "codemirror_mode": {
    "name": "ipython",
    "version": 3
   },
   "file_extension": ".py",
   "mimetype": "text/x-python",
   "name": "python",
   "nbconvert_exporter": "python",
   "pygments_lexer": "ipython3",
   "version": "3.10.5"
  },
  "vscode": {
   "interpreter": {
    "hash": "ff833a3c8d37f49cfe3ed5f0a1977da1d0fbc64ce4381d4e3a021a0ee6bcf19e"
   }
  }
 },
 "nbformat": 4,
 "nbformat_minor": 2
}
